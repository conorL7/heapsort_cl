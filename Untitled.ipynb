{
 "cells": [
  {
   "cell_type": "code",
   "execution_count": null,
   "id": "a15d74d9",
   "metadata": {},
   "outputs": [],
   "source": [
    "HEAP SORT\n",
    "\n",
    "Lists in PYTHON"
   ]
  },
  {
   "cell_type": "code",
   "execution_count": 9,
   "id": "39a876bd",
   "metadata": {},
   "outputs": [],
   "source": [
    "# List in Python can be created with square bracket notation.\n",
    "L = [1, 2, 3, \"Hello, World!\", None, True, \"Printing out array values\"]"
   ]
  },
  {
   "cell_type": "code",
   "execution_count": 11,
   "id": "cebd6e7d",
   "metadata": {},
   "outputs": [
    {
     "data": {
      "text/plain": [
       "'Printing out array values'"
      ]
     },
     "execution_count": 11,
     "metadata": {},
     "output_type": "execute_result"
    }
   ],
   "source": [
    "# They are zero indexed, as usual.\n",
    "L[6]"
   ]
  },
  {
   "cell_type": "code",
   "execution_count": 17,
   "id": "ceeb6b2d",
   "metadata": {},
   "outputs": [
    {
     "data": {
      "text/plain": [
       "[1, 2, 3]"
      ]
     },
     "execution_count": 17,
     "metadata": {},
     "output_type": "execute_result"
    }
   ],
   "source": [
    "# Create lists with the list() function.\n",
    "# ONLY REMEMBERS THE FIRST 3\n",
    "list({1, 2, 3, 3})"
   ]
  },
  {
   "cell_type": "code",
   "execution_count": 24,
   "id": "98bb1bd2",
   "metadata": {},
   "outputs": [
    {
     "data": {
      "text/plain": [
       "'Printing out array values'"
      ]
     },
     "execution_count": 24,
     "metadata": {},
     "output_type": "execute_result"
    }
   ],
   "source": [
    "# Using negative indexes.\n",
    "L[-1]"
   ]
  },
  {
   "cell_type": "code",
   "execution_count": 28,
   "id": "41bceece",
   "metadata": {},
   "outputs": [
    {
     "data": {
      "text/plain": [
       "True"
      ]
     },
     "execution_count": 28,
     "metadata": {},
     "output_type": "execute_result"
    }
   ],
   "source": [
    "# Second last element.\n",
    "L[-2]"
   ]
  },
  {
   "cell_type": "code",
   "execution_count": 30,
   "id": "f645b867",
   "metadata": {},
   "outputs": [
    {
     "data": {
      "text/plain": [
       "[0, 2, 4, 6, 8, 10, 12, 14, 16, 18]"
      ]
     },
     "execution_count": 30,
     "metadata": {},
     "output_type": "execute_result"
    }
   ],
   "source": [
    "# In-Built functions for creating iteratables.\n",
    "list (range(0, 20, 2))"
   ]
  },
  {
   "cell_type": "code",
   "execution_count": 33,
   "id": "9e278100",
   "metadata": {},
   "outputs": [],
   "source": [
    "# In-Built functions for creating iteratables. No third parameter used here. program will assume third paramater is 1.\n",
    "# If used with 1 parameter, it will assume that the first parameter is 0.\n",
    "L = list(range(20))"
   ]
  },
  {
   "cell_type": "code",
   "execution_count": 34,
   "id": "907f10c8",
   "metadata": {},
   "outputs": [
    {
     "data": {
      "text/plain": [
       "[0, 1, 2, 3, 4, 5, 6, 7, 8, 9, 10, 11, 12, 13, 14, 15, 16, 17, 18, 19]"
      ]
     },
     "execution_count": 34,
     "metadata": {},
     "output_type": "execute_result"
    }
   ],
   "source": [
    "L"
   ]
  },
  {
   "cell_type": "code",
   "execution_count": 35,
   "id": "f31e22a2",
   "metadata": {},
   "outputs": [
    {
     "data": {
      "text/plain": [
       "[1, 3, 5, 7, 9]"
      ]
     },
     "execution_count": 35,
     "metadata": {},
     "output_type": "execute_result"
    }
   ],
   "source": [
    "# List Slicing.\n",
    "L[1:10:2]"
   ]
  },
  {
   "cell_type": "code",
   "execution_count": null,
   "id": "7a603f2d",
   "metadata": {},
   "outputs": [],
   "source": []
  }
 ],
 "metadata": {
  "kernelspec": {
   "display_name": "Python 3 (ipykernel)",
   "language": "python",
   "name": "python3"
  },
  "language_info": {
   "codemirror_mode": {
    "name": "ipython",
    "version": 3
   },
   "file_extension": ".py",
   "mimetype": "text/x-python",
   "name": "python",
   "nbconvert_exporter": "python",
   "pygments_lexer": "ipython3",
   "version": "3.9.7"
  }
 },
 "nbformat": 4,
 "nbformat_minor": 5
}
